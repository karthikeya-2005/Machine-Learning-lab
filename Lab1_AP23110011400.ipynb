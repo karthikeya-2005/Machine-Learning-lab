{
  "cells": [
    {
      "cell_type": "markdown",
      "metadata": {
        "id": "view-in-github",
        "colab_type": "text"
      },
      "source": [
        "<a href=\"https://colab.research.google.com/github/karthikeya-2005/Machine-Learning-lab/blob/main/Lab1_AP23110011400.ipynb\" target=\"_parent\"><img src=\"https://colab.research.google.com/assets/colab-badge.svg\" alt=\"Open In Colab\"/></a>"
      ]
    },
    {
      "cell_type": "markdown",
      "id": "20dc80e4",
      "metadata": {
        "id": "20dc80e4"
      },
      "source": [
        "# 🧑‍💻 NumPy Complete Guided Project\n",
        "**Instructor / Student Colab Notebook** – covers *all* key concepts from `Numpy‑1` to `Numpy‑5`.\n",
        "\n",
        "*Generated: 08 Aug 2025*"
      ]
    },
    {
      "cell_type": "markdown",
      "id": "e8b8b6cf",
      "metadata": {
        "id": "e8b8b6cf"
      },
      "source": [
        "\n",
        "**Table of Contents**\n",
        "\n",
        "1. [Setup](#setup)  \n",
        "2. [Array Creation & Dtypes](#creation)  \n",
        "3. [Array Attributes & Inspection](#attributes)  \n",
        "4. [Indexing, Slicing, Fancy Indexing](#indexing)  \n",
        "5. [Reshaping, Transpose & Copies vs Views](#reshape)  \n",
        "6. [Joining, Splitting, Set & Sorting Ops](#join)  \n",
        "7. [Arithmetic Ops, Universal Functions](#arithmetic)  \n",
        "8. [Broadcasting (Rules + Examples)](#broadcast)  \n",
        "9. [Statistics & Aggregations](#stats)  \n",
        "10. [Random Numbers & Reproducibility](#random)  \n",
        "11. [Structured / Recarrays](#structured)  \n",
        "12. [Linear Algebra Essentials](#linalg)  \n",
        "13. [File I/O (`npy`, `npz`, `txt`)](#io)  \n",
        "14. [Datetime64 & Timedelta64](#datetime)  \n",
        "15. [Masked Arrays & NaNs](#mask)  \n",
        "16. [Mini‑Project — Fitness Data Analysis](#project)  \n",
        "17. [Conclusion & Next Steps](#conclusion)  \n"
      ]
    },
    {
      "cell_type": "markdown",
      "id": "9170f3ee",
      "metadata": {
        "id": "9170f3ee"
      },
      "source": [
        "## <a name='setup'></a>1️⃣ Setup"
      ]
    },
    {
      "cell_type": "code",
      "execution_count": null,
      "id": "4f54988f",
      "metadata": {
        "id": "4f54988f",
        "colab": {
          "base_uri": "https://localhost:8080/"
        },
        "outputId": "9aa1ed19-0f17-4ff7-f4fc-09105d4a95c9"
      },
      "outputs": [
        {
          "output_type": "stream",
          "name": "stdout",
          "text": [
            "NumPy version: 2.0.2\n"
          ]
        }
      ],
      "source": [
        "import numpy as np, math, os, pathlib, types, textwrap, random\n",
        "print('NumPy version:', np.__version__)"
      ]
    },
    {
      "cell_type": "markdown",
      "id": "c7f7b2c8",
      "metadata": {
        "id": "c7f7b2c8"
      },
      "source": [
        "## <a name='creation'></a>2️⃣ Array Creation & Dtypes"
      ]
    },
    {
      "cell_type": "markdown",
      "id": "47405152",
      "metadata": {
        "id": "47405152"
      },
      "source": [
        "Key functions: `np.array`, `np.arange`, `np.linspace`, `zeros`, `ones`, `full`, `eye`, `identity`, `diag`, `empty`"
      ]
    },
    {
      "cell_type": "code",
      "execution_count": null,
      "id": "801e99ad",
      "metadata": {
        "id": "801e99ad"
      },
      "outputs": [],
      "source": [
        "# EXAMPLE\n",
        "arr1 = np.array([1, 2, 3], dtype=np.int32)\n",
        "arr2 = np.linspace(0, 1, 6)\n",
        "arr3 = np.full((2,3), 7.5)\n",
        "print(arr1, arr2, arr3, sep=\"\\n\")\n",
        "print(\"dtypes:\", arr1.dtype, arr2.dtype)\n"
      ]
    },
    {
      "cell_type": "code",
      "execution_count": null,
      "id": "dc63d076",
      "metadata": {
        "colab": {
          "base_uri": "https://localhost:8080/"
        },
        "id": "dc63d076",
        "outputId": "998f6531-ce1c-4298-cd90-43a1bc7d206a"
      },
      "outputs": [
        {
          "output_type": "stream",
          "name": "stdout",
          "text": [
            "[[0 1 0 1 0 1 0 1 0 1]\n",
            " [1 0 1 0 1 0 1 0 1 0]\n",
            " [0 1 0 1 0 1 0 1 0 1]\n",
            " [1 0 1 0 1 0 1 0 1 0]\n",
            " [0 1 0 1 0 1 0 1 0 1]\n",
            " [1 0 1 0 1 0 1 0 1 0]\n",
            " [0 1 0 1 0 1 0 1 0 1]\n",
            " [1 0 1 0 1 0 1 0 1 0]\n",
            " [0 1 0 1 0 1 0 1 0 1]\n",
            " [1 0 1 0 1 0 1 0 1 0]]\n"
          ]
        }
      ],
      "source": [
        "# 🖊️ TODO: create a 10×10 chessboard pattern using zeros & ones\n",
        "\n",
        "chessboard = np.zeros((10, 10), dtype=int)\n",
        "chessboard[1::2, ::2] = 1\n",
        "chessboard[::2, 1::2] = 1\n",
        "\n",
        "print(chessboard)\n",
        "\n"
      ]
    },
    {
      "cell_type": "markdown",
      "id": "925be762",
      "metadata": {
        "id": "925be762"
      },
      "source": [
        "## <a name='attributes'></a>3️⃣ Array Attributes & Inspection"
      ]
    },
    {
      "cell_type": "markdown",
      "id": "f103bb36",
      "metadata": {
        "id": "f103bb36"
      },
      "source": [
        "`shape`, `ndim`, `size`, `dtype`, `itemsize`, `nbytes`"
      ]
    },
    {
      "cell_type": "code",
      "execution_count": null,
      "id": "ad3eeda1",
      "metadata": {
        "id": "ad3eeda1"
      },
      "outputs": [],
      "source": [
        "M = np.arange(12).reshape(3,4)\n",
        "print('shape', M.shape, 'ndim', M.ndim, 'size', M.size, 'itemsize', M.itemsize, 'total bytes', M.nbytes)\n"
      ]
    },
    {
      "cell_type": "code",
      "execution_count": null,
      "id": "5875fefe",
      "metadata": {
        "colab": {
          "base_uri": "https://localhost:8080/"
        },
        "id": "5875fefe",
        "outputId": "2ed86de6-5daa-4253-fb2e-b293e6f70d03"
      },
      "outputs": [
        {
          "output_type": "stream",
          "name": "stdout",
          "text": [
            "8000000 bytes\n",
            "7.62939453125 MB\n"
          ]
        }
      ],
      "source": [
        "# 🖊️ TODO: check memory footprint of a 1000×1000 float64 array\n",
        "\n",
        "arr = np.zeros((1000, 1000), dtype=np.float64)\n",
        "print(arr.nbytes, \"bytes\")\n",
        "print(arr.nbytes / (1024**2), \"MB\")\n"
      ]
    },
    {
      "cell_type": "markdown",
      "id": "bd895660",
      "metadata": {
        "id": "bd895660"
      },
      "source": [
        "## <a name='indexing'></a>4️⃣ Indexing, Slicing & Fancy Indexing"
      ]
    },
    {
      "cell_type": "code",
      "execution_count": null,
      "id": "5dc7d4c1",
      "metadata": {
        "id": "5dc7d4c1"
      },
      "outputs": [],
      "source": [
        "a = np.arange(1,26).reshape(5,5)\n",
        "print(a[:, 0])     # first column\n",
        "print(a[::2, ::2]) # every 2nd row/col\n",
        "mask = (a % 3 == 0)\n",
        "print('multiples of 3:', a[mask])\n"
      ]
    },
    {
      "cell_type": "code",
      "execution_count": null,
      "id": "9c4bd5f4",
      "metadata": {
        "colab": {
          "base_uri": "https://localhost:8080/"
        },
        "id": "9c4bd5f4",
        "outputId": "cf8d57b3-3795-49ec-bd0b-d03b98835233"
      },
      "outputs": [
        {
          "output_type": "stream",
          "name": "stdout",
          "text": [
            "[[ 1  2  3  4  5]\n",
            " [ 6  7  8  9 10]\n",
            " [11 12 13 14 15]\n",
            " [16 17 18 19 20]\n",
            " [21 22 23 24 25]]\n",
            "\n",
            "After swapping first and last rows:\n",
            " [[21 22 23 24 25]\n",
            " [ 6  7  8  9 10]\n",
            " [11 12 13 14 15]\n",
            " [16 17 18 19 20]\n",
            " [ 1  2  3  4  5]]\n"
          ]
        }
      ],
      "source": [
        "# 🖊️ TODO: use fancy indexing to swap first and last rows of `a`\n",
        "\n",
        "a = np.arange(1, 26).reshape(5, 5)\n",
        "print(a)\n",
        "a[[0, -1]] = a[[-1, 0]]\n",
        "print(\"\\nAfter swapping first and last rows:\\n\", a)\n"
      ]
    },
    {
      "cell_type": "markdown",
      "id": "8f4de1d5",
      "metadata": {
        "id": "8f4de1d5"
      },
      "source": [
        "## <a name='reshape'></a>5️⃣ Reshaping, Transpose & Copies vs Views"
      ]
    },
    {
      "cell_type": "code",
      "execution_count": null,
      "id": "053b4ff4",
      "metadata": {
        "id": "053b4ff4"
      },
      "outputs": [],
      "source": [
        "b = np.arange(8)\n",
        "B = b.reshape(2,4)\n",
        "B[0,0] = 99\n",
        "print('b is modified:', b)\n",
        "C = b.reshape(2,4).copy()\n",
        "C[0,0] = -1\n",
        "print('b unchanged with copy:', b)\n"
      ]
    },
    {
      "cell_type": "code",
      "execution_count": null,
      "id": "a3e599bd",
      "metadata": {
        "colab": {
          "base_uri": "https://localhost:8080/"
        },
        "id": "a3e599bd",
        "outputId": "b41ef5eb-27af-4ba2-964a-064ce8193b63"
      },
      "outputs": [
        {
          "output_type": "stream",
          "name": "stdout",
          "text": [
            "Original 3D array:\n",
            " [[[ 1  2  3]\n",
            "  [ 4  5  6]]\n",
            "\n",
            " [[ 7  8  9]\n",
            "  [10 11 12]]]\n",
            "\n",
            "Using ravel(): [ 1  2  3  4  5  6  7  8  9 10 11 12]\n",
            "Using flatten(): [ 1  2  3  4  5  6  7  8  9 10 11 12]\n",
            "\n",
            "After modifying ravel() output:\n",
            "ravel view: [999   2   3   4   5   6   7   8   9  10  11  12]\n",
            "Original array after ravel change:\n",
            " [[[999   2   3]\n",
            "  [  4   5   6]]\n",
            "\n",
            " [[  7   8   9]\n",
            "  [ 10  11  12]]]\n",
            "\n",
            "After modifying flatten() output:\n",
            "flatten copy: [  1 555   3   4   5   6   7   8   9  10  11  12]\n",
            "Original array after flatten change:\n",
            " [[[999   2   3]\n",
            "  [  4   5   6]]\n",
            "\n",
            " [[  7   8   9]\n",
            "  [ 10  11  12]]]\n"
          ]
        }
      ],
      "source": [
        "# 🖊️ TODO: Flatten a 3‑D array into 1‑D using both `ravel` and `flatten`; observe copy vs view.\n",
        "\n",
        "arr3d = np.arange(1, 13).reshape(2, 2, 3)\n",
        "print(\"Original 3D array:\\n\", arr3d)\n",
        "\n",
        "r = arr3d.ravel()\n",
        "print(\"\\nUsing ravel():\", r)\n",
        "\n",
        "f = arr3d.flatten()\n",
        "print(\"Using flatten():\", f)\n",
        "\n",
        "r[0] = 999\n",
        "print(\"\\nAfter modifying ravel() output:\")\n",
        "print(\"ravel view:\", r)\n",
        "print(\"Original array after ravel change:\\n\", arr3d)\n",
        "\n",
        "f[1] = 555\n",
        "print(\"\\nAfter modifying flatten() output:\")\n",
        "print(\"flatten copy:\", f)\n",
        "print(\"Original array after flatten change:\\n\", arr3d)\n",
        "\n"
      ]
    },
    {
      "cell_type": "markdown",
      "id": "2390c4ae",
      "metadata": {
        "id": "2390c4ae"
      },
      "source": [
        "## <a name='join'></a>6️⃣ Joining, Splitting, Set & Sorting Ops"
      ]
    },
    {
      "cell_type": "code",
      "execution_count": null,
      "id": "a53f640a",
      "metadata": {
        "id": "a53f640a"
      },
      "outputs": [],
      "source": [
        "x = np.array([1,3,5]); y = np.array([2,4,6])\n",
        "xy = np.concatenate([x,y])\n",
        "print('union', np.union1d(x,y))\n",
        "print('intersect', np.intersect1d(xy,[1,2,10]))\n",
        "print('sorted descending', np.sort(xy)[::-1])\n"
      ]
    },
    {
      "cell_type": "code",
      "execution_count": null,
      "id": "4231e729",
      "metadata": {
        "colab": {
          "base_uri": "https://localhost:8080/"
        },
        "id": "4231e729",
        "outputId": "db5e0e84-e8bf-44e1-888c-d561d3ba0dbe"
      },
      "outputs": [
        {
          "output_type": "stream",
          "name": "stdout",
          "text": [
            "First half: [0 1 2 3 4]\n",
            "Second half: [5 6 7 8 9]\n"
          ]
        }
      ],
      "source": [
        "# 🖊️ TODO: split `xy` back into two equal halves using `np.array_split`\n",
        "\n",
        "xy = np.arange(10)\n",
        "\n",
        "halves = np.array_split(xy, 2)\n",
        "\n",
        "print(\"First half:\", halves[0])\n",
        "print(\"Second half:\", halves[1])\n",
        "\n"
      ]
    },
    {
      "cell_type": "markdown",
      "id": "e6ebeb68",
      "metadata": {
        "id": "e6ebeb68"
      },
      "source": [
        "## <a name='arithmetic'></a>7️⃣ Arithmetic Ops & Universal Functions"
      ]
    },
    {
      "cell_type": "code",
      "execution_count": null,
      "id": "04a6eda9",
      "metadata": {
        "id": "04a6eda9"
      },
      "outputs": [],
      "source": [
        "v = np.arange(5)\n",
        "print('exp', np.exp(v))\n",
        "print('sin', np.sin(v))\n",
        "print('vectorised addition', v + 10)\n"
      ]
    },
    {
      "cell_type": "code",
      "execution_count": null,
      "id": "c011f422",
      "metadata": {
        "colab": {
          "base_uri": "https://localhost:8080/"
        },
        "id": "c011f422",
        "outputId": "3ac82568-4558-4334-c21b-6f4bf977c52b"
      },
      "outputs": [
        {
          "output_type": "stream",
          "name": "stdout",
          "text": [
            "Degrees: [ 0 30 45 60 90]\n",
            "Radians: [0.         0.52359878 0.78539816 1.04719755 1.57079633]\n",
            "Sine values: [0.         0.5        0.70710678 0.8660254  1.        ]\n"
          ]
        }
      ],
      "source": [
        "# 🖊️ TODO: given degrees [0,30,45,60,90], compute radians and sin values.\n",
        "\n",
        "degrees = np.array([0, 30, 45, 60, 90])\n",
        "\n",
        "radians = np.deg2rad(degrees)\n",
        "\n",
        "sin_values = np.sin(radians)\n",
        "\n",
        "print(\"Degrees:\", degrees)\n",
        "print(\"Radians:\", radians)\n",
        "print(\"Sine values:\", sin_values)\n"
      ]
    },
    {
      "cell_type": "markdown",
      "id": "7c9a5d70",
      "metadata": {
        "id": "7c9a5d70"
      },
      "source": [
        "## <a name='broadcast'></a>8️⃣ Broadcasting Rules"
      ]
    },
    {
      "cell_type": "markdown",
      "id": "aba2764d",
      "metadata": {
        "id": "aba2764d"
      },
      "source": [
        "Rules: compare dimensions from right → left; stretch size 1 dims; mismatch error."
      ]
    },
    {
      "cell_type": "code",
      "execution_count": null,
      "id": "6313899c",
      "metadata": {
        "id": "6313899c"
      },
      "outputs": [],
      "source": [
        "row = np.arange(5)\n",
        "col = np.arange(3).reshape(3,1)\n",
        "matrix = row + col  # broadcast to 3×5\n",
        "print(matrix)\n"
      ]
    },
    {
      "cell_type": "code",
      "execution_count": null,
      "id": "de718119",
      "metadata": {
        "colab": {
          "base_uri": "https://localhost:8080/"
        },
        "id": "de718119",
        "outputId": "653dffa7-334b-4c47-deb5-b534a2688299"
      },
      "outputs": [
        {
          "output_type": "stream",
          "name": "stdout",
          "text": [
            "[[  1   2   3   4   5   6   7   8   9  10]\n",
            " [  2   4   6   8  10  12  14  16  18  20]\n",
            " [  3   6   9  12  15  18  21  24  27  30]\n",
            " [  4   8  12  16  20  24  28  32  36  40]\n",
            " [  5  10  15  20  25  30  35  40  45  50]\n",
            " [  6  12  18  24  30  36  42  48  54  60]\n",
            " [  7  14  21  28  35  42  49  56  63  70]\n",
            " [  8  16  24  32  40  48  56  64  72  80]\n",
            " [  9  18  27  36  45  54  63  72  81  90]\n",
            " [ 10  20  30  40  50  60  70  80  90 100]]\n"
          ]
        }
      ],
      "source": [
        "# 🖊️ TODO: use broadcasting to create a 10×10 multiplication table.\n",
        "\n",
        "row = np.arange(1, 11).reshape(1, 10)\n",
        "col = np.arange(1, 11).reshape(10, 1)\n",
        "\n",
        "table = col * row\n",
        "\n",
        "print(table)\n"
      ]
    },
    {
      "cell_type": "markdown",
      "id": "38a618c8",
      "metadata": {
        "id": "38a618c8"
      },
      "source": [
        "## <a name='stats'></a>9️⃣ Statistics & Aggregations"
      ]
    },
    {
      "cell_type": "code",
      "execution_count": null,
      "id": "af9ac70d",
      "metadata": {
        "colab": {
          "base_uri": "https://localhost:8080/"
        },
        "id": "af9ac70d",
        "outputId": "71143b2a-c81a-4971-e44b-aafb7ea963fa"
      },
      "outputs": [
        {
          "output_type": "stream",
          "name": "stdout",
          "text": [
            "data\n",
            " [[85 64 51 27]\n",
            " [31  5  8  2]\n",
            " [18 81 65 91]\n",
            " [50 61 97 73]\n",
            " [63 54 56 93]]\n",
            "row sums [227  46 255 281 266]\n",
            "col means [49.4 53.  55.4 57.2]\n"
          ]
        }
      ],
      "source": [
        "data = np.random.default_rng(0).integers(1, 100, size=(5,4))\n",
        "print('data\\n', data)\n",
        "print('row sums', data.sum(axis=1))\n",
        "print('col means', data.mean(axis=0))\n"
      ]
    },
    {
      "cell_type": "code",
      "execution_count": null,
      "id": "63adf5be",
      "metadata": {
        "colab": {
          "base_uri": "https://localhost:8080/"
        },
        "id": "63adf5be",
        "outputId": "74037bdd-1907-42ee-f741-e949a7530836"
      },
      "outputs": [
        {
          "output_type": "stream",
          "name": "stdout",
          "text": [
            "data\n",
            " [[85 64 51 27]\n",
            " [31  5  8  2]\n",
            " [18 81 65 91]\n",
            " [50 61 97 73]\n",
            " [63 54 56 93]]\n",
            "row sums [227  46 255 281 266]\n",
            "col means [49.4 53.  55.4 57.2]\n",
            "25th, 50th, 75th percentiles: [30.  58.5 75. ]\n"
          ]
        }
      ],
      "source": [
        "# 🖊️ TODO: compute `np.percentile` (25th, 50th, 75th) of flattened `data`.\n",
        "\n",
        "data = np.random.default_rng(0).integers(1, 100, size=(5, 4))\n",
        "print('data\\n', data)\n",
        "\n",
        "print('row sums', data.sum(axis=1))\n",
        "\n",
        "print('col means', data.mean(axis=0))\n",
        "\n",
        "percentiles = np.percentile(data, [25, 50, 75])\n",
        "print('25th, 50th, 75th percentiles:', percentiles)\n"
      ]
    },
    {
      "cell_type": "markdown",
      "id": "8f3c00d7",
      "metadata": {
        "id": "8f3c00d7"
      },
      "source": [
        "## <a name='random'></a>🔟 Random Numbers & Reproducibility"
      ]
    },
    {
      "cell_type": "code",
      "execution_count": null,
      "id": "98016975",
      "metadata": {
        "id": "98016975"
      },
      "outputs": [],
      "source": [
        "rng = np.random.default_rng(42)\n",
        "rand_floats = rng.random(5)\n",
        "rand_ints = rng.integers(low=10, high=50, size=5)\n",
        "print(rand_floats, rand_ints)\n",
        "rng2 = np.random.default_rng(42)\n",
        "assert np.allclose(rand_floats, rng2.random(5))\n"
      ]
    },
    {
      "cell_type": "code",
      "execution_count": null,
      "id": "35dbadba",
      "metadata": {
        "colab": {
          "base_uri": "https://localhost:8080/"
        },
        "id": "35dbadba",
        "outputId": "1d73c3b3-3d07-448f-bc29-21b5d99bbfc0"
      },
      "outputs": [
        {
          "output_type": "stream",
          "name": "stdout",
          "text": [
            "Rolls: [6 4 4 2 2 1 1 1 2 5 4 6 4 4 6 5 4 4 4 6 2 5 5 1 3 6 4 1 5 5 6 2 1 6 1 4 1\n",
            " 2 3 3 3 1 1 1 1 5 4 4 2 4 5 3 3 6 5 6 3 5 6 4 6 5 5 3 6 1 4 5 6 4 3 2 3 3\n",
            " 5 6 1 6 4 3 5 4 2 2 5 4 4 3 5 3 2 6 2 2 5 4 1 1 3 5]\n",
            "Proportion of 6s: 0.16\n"
          ]
        }
      ],
      "source": [
        "# 🖊️ TODO: simulate rolling a fair six‑sided die 100 times; estimate proportion of 6s.\n",
        "\n",
        "rolls = np.random.default_rng(0).integers(1, 7, size=100)\n",
        "\n",
        "proportion_sixes = np.mean(rolls == 6)\n",
        "\n",
        "print(\"Rolls:\", rolls)\n",
        "print(\"Proportion of 6s:\", proportion_sixes)\n"
      ]
    },
    {
      "cell_type": "markdown",
      "id": "6cdb04b2",
      "metadata": {
        "id": "6cdb04b2"
      },
      "source": [
        "## <a name='structured'></a>1️⃣1️⃣ Structured / Record Arrays"
      ]
    },
    {
      "cell_type": "code",
      "execution_count": null,
      "id": "d8f64e42",
      "metadata": {
        "id": "d8f64e42"
      },
      "outputs": [],
      "source": [
        "people = np.array([('Alice', 25, 55.0), ('Bob', 30, 85.5)],\n",
        "                   dtype=[('name','U10'), ('age','i4'), ('weight','f4')])\n",
        "print(people['name'], people['age'].mean())\n"
      ]
    },
    {
      "cell_type": "code",
      "execution_count": null,
      "id": "7a65fe1d",
      "metadata": {
        "colab": {
          "base_uri": "https://localhost:8080/"
        },
        "id": "7a65fe1d",
        "outputId": "e4cf2b99-cb89-4e9d-87cd-40f6e67e4529"
      },
      "outputs": [
        {
          "output_type": "stream",
          "name": "stdout",
          "text": [
            "[(1, 'Alice', 5.5) (2, 'Bob', 6. )]\n",
            "[('id', '<i4'), ('name', '<U10'), ('height', '<f8')]\n"
          ]
        }
      ],
      "source": [
        "# 🖊️ TODO: add a new field 'height' to the structured array using `np.lib.recfunctions.append_fields` (hint: pip install?).\n",
        "from numpy.lib import recfunctions as rfn\n",
        "\n",
        "a = np.array([(1, 'Alice'), (2, 'Bob')],\n",
        "             dtype=[('id', 'i4'), ('name', 'U10')])\n",
        "\n",
        "heights = np.array([5.5, 6.0])\n",
        "\n",
        "a_new = rfn.append_fields(a, 'height', heights, dtypes=float, usemask=False)\n",
        "\n",
        "print(a_new)\n",
        "print(a_new.dtype)\n"
      ]
    },
    {
      "cell_type": "markdown",
      "id": "df5b617b",
      "metadata": {
        "id": "df5b617b"
      },
      "source": [
        "## <a name='linalg'></a>1️⃣2️⃣ Linear Algebra Essentials"
      ]
    },
    {
      "cell_type": "code",
      "execution_count": null,
      "id": "3f7fb475",
      "metadata": {
        "id": "3f7fb475"
      },
      "outputs": [],
      "source": [
        "A = np.random.random((3,3))\n",
        "b = np.random.random(3)\n",
        "x = np.linalg.solve(A, b)\n",
        "print('A·x ≈ b?', np.allclose(A.dot(x), b))\n"
      ]
    },
    {
      "cell_type": "code",
      "execution_count": null,
      "id": "a8fb02d7",
      "metadata": {
        "colab": {
          "base_uri": "https://localhost:8080/"
        },
        "id": "a8fb02d7",
        "outputId": "e37bb6a2-f6ce-4a4f-d891-75a28b86e055"
      },
      "outputs": [
        {
          "output_type": "stream",
          "name": "stdout",
          "text": [
            "A·x ≈ b? True\n",
            "Eigenvalues of A: [ 1.78052945  0.25072844 -0.25258037]\n"
          ]
        }
      ],
      "source": [
        "# 🖊️ TODO: compute eigenvalues of `A` using `np.linalg.eig`.\n",
        "\n",
        "A = np.random.random((3, 3))\n",
        "b = np.random.random(3)\n",
        "x = np.linalg.solve(A, b)\n",
        "print('A·x ≈ b?', np.allclose(A.dot(x), b))\n",
        "\n",
        "eigenvalues, eigenvectors = np.linalg.eig(A)\n",
        "print(\"Eigenvalues of A:\", eigenvalues)\n",
        "\n"
      ]
    },
    {
      "cell_type": "markdown",
      "id": "e8fd753c",
      "metadata": {
        "id": "e8fd753c"
      },
      "source": [
        "## <a name='io'></a>1️⃣3️⃣ File I/O (`npy`, `npz`, `txt`)"
      ]
    },
    {
      "cell_type": "code",
      "execution_count": null,
      "id": "bd6dc026",
      "metadata": {
        "id": "bd6dc026"
      },
      "outputs": [],
      "source": [
        "np.save('array.npy', A)\n",
        "loaded = np.load('array.npy')\n",
        "print('loaded equals A?', np.allclose(loaded, A))\n",
        "np.savez('multi_arrays.npz', A=A, b=b)\n"
      ]
    },
    {
      "cell_type": "code",
      "execution_count": null,
      "id": "d9552893",
      "metadata": {
        "id": "d9552893",
        "colab": {
          "base_uri": "https://localhost:8080/"
        },
        "outputId": "089e62ab-f208-4d1a-cc94-a191020df317"
      },
      "outputs": [
        {
          "output_type": "stream",
          "name": "stdout",
          "text": [
            "Original data:\n",
            " [[85 64 51 27]\n",
            " [31  5  8  2]\n",
            " [18 81 65 91]\n",
            " [50 61 97 73]\n",
            " [63 54 56 93]]\n",
            "Loaded data:\n",
            " [[85 64 51 27]\n",
            " [31  5  8  2]\n",
            " [18 81 65 91]\n",
            " [50 61 97 73]\n",
            " [63 54 56 93]]\n",
            "Data equal after reload? True\n"
          ]
        }
      ],
      "source": [
        "# 🖊️ TODO: Use `np.savetxt` to write `data` (from stats section) to CSV then reload with `np.loadtxt`.\n",
        "\n",
        "data = np.random.default_rng(0).integers(1, 100, size=(5, 4))\n",
        "\n",
        "np.savetxt('data.csv', data, delimiter=',', fmt='%d')\n",
        "\n",
        "loaded_data = np.loadtxt('data.csv', delimiter=',', dtype=int)\n",
        "\n",
        "print(\"Original data:\\n\", data)\n",
        "print(\"Loaded data:\\n\", loaded_data)\n",
        "print(\"Data equal after reload?\", np.array_equal(data, loaded_data))\n"
      ]
    },
    {
      "cell_type": "markdown",
      "id": "f24f33e3",
      "metadata": {
        "id": "f24f33e3"
      },
      "source": [
        "## <a name='datetime'></a>1️⃣4️⃣ Datetime64 & Timedelta64"
      ]
    },
    {
      "cell_type": "code",
      "execution_count": null,
      "id": "3ce7b543",
      "metadata": {
        "id": "3ce7b543"
      },
      "outputs": [],
      "source": [
        "dates = np.arange('2023-01', '2023-04', dtype='datetime64[D]')\n",
        "delta = dates[1:] - dates[:-1]\n",
        "print(dates[:5], delta[0])\n"
      ]
    },
    {
      "cell_type": "code",
      "execution_count": null,
      "id": "e493d6f8",
      "metadata": {
        "id": "e493d6f8",
        "colab": {
          "base_uri": "https://localhost:8080/"
        },
        "outputId": "3f920b35-0144-475c-888f-5091c0c33db5"
      },
      "outputs": [
        {
          "output_type": "stream",
          "name": "stdout",
          "text": [
            "Number of Mondays: 13\n"
          ]
        }
      ],
      "source": [
        "# 🖊️ TODO: find how many Mondays appear in `dates` array.\n",
        "day_of_week = (dates.astype('datetime64[D]').view('int64') + 4) % 7  # 1970-01-01 was Thursday (day 4)\n",
        "num_mondays = np.sum(day_of_week == 0)\n",
        "\n",
        "print(\"Number of Mondays:\", num_mondays)\n"
      ]
    },
    {
      "cell_type": "markdown",
      "id": "636116b9",
      "metadata": {
        "id": "636116b9"
      },
      "source": [
        "## <a name='mask'></a>1️⃣5️⃣ Masked Arrays & NaNs"
      ]
    },
    {
      "cell_type": "code",
      "execution_count": null,
      "id": "ec30b3ee",
      "metadata": {
        "id": "ec30b3ee"
      },
      "outputs": [],
      "source": [
        "arr = np.array([1, 2, np.nan, 4, np.nan])\n",
        "masked = np.ma.masked_invalid(arr)\n",
        "print(masked.mean())\n"
      ]
    },
    {
      "cell_type": "code",
      "execution_count": null,
      "id": "1ead3a9c",
      "metadata": {
        "id": "1ead3a9c",
        "colab": {
          "base_uri": "https://localhost:8080/"
        },
        "outputId": "48c83639-ec3b-4a21-90e4-ade0b176af55"
      },
      "outputs": [
        {
          "output_type": "stream",
          "name": "stdout",
          "text": [
            "Column means: [4.  5.  7.5]\n",
            "Array after replacing NaNs:\n",
            " [[1.  2.  7.5]\n",
            " [4.  5.  6. ]\n",
            " [7.  8.  9. ]]\n"
          ]
        }
      ],
      "source": [
        "# 🖊️ TODO: replace NaNs with column means in a 2‑D array containing NaNs.\n",
        "import numpy as np\n",
        "\n",
        "arr2d = np.array([\n",
        "    [1,   2,  np.nan],\n",
        "    [4, np.nan, 6],\n",
        "    [7,   8,  9]\n",
        "], dtype=float)\n",
        "\n",
        "col_means = np.nanmean(arr2d, axis=0)\n",
        "\n",
        "inds = np.where(np.isnan(arr2d))\n",
        "\n",
        "arr2d[inds] = np.take(col_means, inds[1])\n",
        "\n",
        "print(\"Column means:\", col_means)\n",
        "print(\"Array after replacing NaNs:\\n\", arr2d)\n"
      ]
    },
    {
      "cell_type": "markdown",
      "id": "509e6104",
      "metadata": {
        "id": "509e6104"
      },
      "source": [
        "## <a name='project'></a>1️⃣6️⃣ Mini‑Project: Fitness Data Analysis"
      ]
    },
    {
      "cell_type": "markdown",
      "id": "d867d3a6",
      "metadata": {
        "id": "d867d3a6"
      },
      "source": [
        "Load `fitness.txt` (tab‑separated) then follow prompts."
      ]
    },
    {
      "cell_type": "code",
      "execution_count": null,
      "id": "593e50db",
      "metadata": {
        "colab": {
          "base_uri": "https://localhost:8080/"
        },
        "id": "593e50db",
        "outputId": "b6a4064f-8845-491f-e67b-80c4e0089801"
      },
      "outputs": [
        {
          "output_type": "stream",
          "name": "stdout",
          "text": [
            "columns: ('date', 'step_count', 'mood', 'calories_burned', 'hours_of_sleep', 'bool_of_active', 'weight_kg') rows: 96\n"
          ]
        }
      ],
      "source": [
        "import numpy as np, math, os, pathlib, types, textwrap, random\n",
        "fitness = np.genfromtxt('fitness.txt', delimiter='\\t', dtype=None, encoding=None, names=True)\n",
        "print('columns:', fitness.dtype.names, 'rows:', len(fitness))\n"
      ]
    },
    {
      "cell_type": "code",
      "execution_count": null,
      "id": "32e514d2",
      "metadata": {
        "id": "32e514d2",
        "colab": {
          "base_uri": "https://localhost:8080/"
        },
        "outputId": "4452c2ba-f746-4c12-ee6e-d995b83e2705"
      },
      "outputs": [
        {
          "output_type": "stream",
          "name": "stdout",
          "text": [
            "=== Monthly Step Count ===\n",
            "#date\n",
            "2017-10     79051\n",
            "2017-11    103071\n",
            "2017-12     89565\n",
            "2018-01     10163\n",
            "Freq: M, Name: step_count, dtype: int64\n",
            "\n",
            "=== Sleep vs Mood Correlation ===\n",
            "0.2104166644730015\n",
            "\n",
            "=== Weekly Summary ===\n",
            "      total_steps    avg_mood  avg_sleep\n",
            "week                                    \n",
            "1            5833  171.428571   3.714286\n",
            "2            4330  250.000000   5.000000\n",
            "40          11530  133.333333   6.000000\n",
            "41          23810  114.285714   5.571429\n",
            "42          20669  128.571429   6.428571\n",
            "43          16283  214.285714   5.571429\n",
            "44          20598  285.714286   5.142857\n",
            "45          31217  285.714286   4.714286\n",
            "46          17714  285.714286   5.571429\n",
            "47          27859  300.000000   5.714286\n",
            "48          18701  257.142857   6.428571\n",
            "49          21178  214.285714   5.428571\n",
            "50          22628  185.714286   4.285714\n",
            "51          20682  142.857143   4.857143\n",
            "52          18818  185.714286   4.142857\n"
          ]
        }
      ],
      "source": [
        "# 🖊️ TODO: Monthly step count, sleep vs mood correlation, weekly summary, etc.\n",
        "\n",
        "fitness = pd.read_csv('fitness.txt', sep='\\t', parse_dates=['#date'], dayfirst=True)\n",
        "\n",
        "monthly_steps = fitness.groupby(fitness['#date'].dt.to_period('M'))['step_count'].sum()\n",
        "\n",
        "sleep_mood_corr = fitness['hours_of_sleep'].corr(fitness['mood'])\n",
        "\n",
        "weekly_summary = fitness.groupby(fitness['#date'].dt.isocalendar().week).agg(\n",
        "    total_steps=('step_count', 'sum'),\n",
        "    avg_mood=('mood', 'mean'),\n",
        "    avg_sleep=('hours_of_sleep', 'mean')\n",
        ")\n",
        "\n",
        "print(\"=== Monthly Step Count ===\")\n",
        "print(monthly_steps)\n",
        "\n",
        "print(\"\\n=== Sleep vs Mood Correlation ===\")\n",
        "print(sleep_mood_corr)\n",
        "\n",
        "print(\"\\n=== Weekly Summary ===\")\n",
        "print(weekly_summary)\n"
      ]
    },
    {
      "cell_type": "markdown",
      "id": "e7c0e1dc",
      "metadata": {
        "id": "e7c0e1dc"
      },
      "source": [
        "## <a name='conclusion'></a>1️⃣7️⃣ Conclusion & Further Practice\n",
        "Congrats on covering **all core NumPy topics** from your five lecture notebooks!\n",
        "\n",
        "*Keep experimenting, read the official docs, and try converting your NumPy pipelines into Pandas or JAX for more fun.*"
      ]
    }
  ],
  "metadata": {
    "colab": {
      "provenance": [],
      "include_colab_link": true
    },
    "language_info": {
      "name": "python"
    },
    "kernelspec": {
      "name": "python3",
      "display_name": "Python 3"
    }
  },
  "nbformat": 4,
  "nbformat_minor": 5
}